{
 "cells": [
  {
   "cell_type": "markdown",
   "metadata": {},
   "source": [
    "The data comes from the UCI Machine Learning Repository (https://archive.ics.uci.edu/ml/) and consists of 4 datasets of heart disease information from different locales (Cleveland, Hungary, Switzerland, Long Beach). The data has 14 columns:\n",
    "+ age\n",
    "+ sex (0 = female, 1 = male)\n",
    "+ cp (chest pain type; 1 = typical angina, 2 = atypical angina, 3 = non-anginal pain, 4 = asymptomatic)\n",
    "+ trestbps (resting blood pressure in mm Hg)\n",
    "+ chol (serum cholesterol in mg/dl)\n",
    "+ fbs (fasting blood sugar > 120 mg/dl; 0 = false, 1 = true)\n",
    "+ restecg (resting electrocardiographic results; 0 = normal, 1 = ST-T wave abnormality, 2 = probable/definite left ventricular hypertrophy)\n",
    "+ thalach (maximum heart rate)\n",
    "+ exang (exercise induced angina; 0 = false, 1 = true)\n",
    "+ oldpeak (ST depression induced by exercise relative to rest)\n",
    "+ slope (slope of peak exercise ST segment; 1 = upsloping, 2 = flat, 3 = downsloping)\n",
    "+ ca (number of major vessels colored by fluoroscopy; 0-3)\n",
    "+ thal (MPI defects; 3 = normal, 6 = fixed defect, 7 = reversible defect)\n",
    "+ num (heart disease diagnosis; 0 = absence, 1-3 = presence)\n",
    "\n",
    "The first step is importing the data from the repository. The data is in csv format, and null values are represented by '?' strings."
   ]
  },
  {
   "cell_type": "code",
   "execution_count": 1,
   "metadata": {
    "collapsed": true
   },
   "outputs": [],
   "source": [
    "import pandas as pd\n",
    "import matplotlib.pyplot as plt"
   ]
  },
  {
   "cell_type": "code",
   "execution_count": 2,
   "metadata": {
    "collapsed": false
   },
   "outputs": [],
   "source": [
    "locales = ['cleveland', 'hungarian', 'switzerland', 'va']\n",
    "url = 'https://archive.ics.uci.edu/ml/machine-learning-databases/heart-disease/processed.{}.data'\n",
    "cols = ['age', 'sex', 'cp', 'trestbps', 'chol', 'fbs', 'restecg', 'thalach', 'exang', 'oldpeak', 'slope', 'ca', 'thal', 'num']\n",
    "\n",
    "data = []\n",
    "for locale in locales:\n",
    "    data.append(pd.read_csv(url.format(locale), names=cols, na_values='?'))"
   ]
  },
  {
   "cell_type": "code",
   "execution_count": 3,
   "metadata": {
    "collapsed": false
   },
   "outputs": [
    {
     "name": "stdout",
     "output_type": "stream",
     "text": [
      "<class 'pandas.core.frame.DataFrame'>\n",
      "Int64Index: 303 entries, 0 to 302\n",
      "Data columns (total 14 columns):\n",
      "age         303 non-null float64\n",
      "sex         303 non-null float64\n",
      "cp          303 non-null float64\n",
      "trestbps    303 non-null float64\n",
      "chol        303 non-null float64\n",
      "fbs         303 non-null float64\n",
      "restecg     303 non-null float64\n",
      "thalach     303 non-null float64\n",
      "exang       303 non-null float64\n",
      "oldpeak     303 non-null float64\n",
      "slope       303 non-null float64\n",
      "ca          299 non-null float64\n",
      "thal        301 non-null float64\n",
      "num         303 non-null int64\n",
      "dtypes: float64(13), int64(1)\n",
      "memory usage: 35.5 KB\n",
      "None\n",
      "<class 'pandas.core.frame.DataFrame'>\n",
      "Int64Index: 294 entries, 0 to 293\n",
      "Data columns (total 14 columns):\n",
      "age         294 non-null int64\n",
      "sex         294 non-null int64\n",
      "cp          294 non-null int64\n",
      "trestbps    293 non-null float64\n",
      "chol        271 non-null float64\n",
      "fbs         286 non-null float64\n",
      "restecg     293 non-null float64\n",
      "thalach     293 non-null float64\n",
      "exang       293 non-null float64\n",
      "oldpeak     294 non-null float64\n",
      "slope       104 non-null float64\n",
      "ca          3 non-null float64\n",
      "thal        28 non-null float64\n",
      "num         294 non-null int64\n",
      "dtypes: float64(10), int64(4)\n",
      "memory usage: 34.5 KB\n",
      "None\n",
      "<class 'pandas.core.frame.DataFrame'>\n",
      "Int64Index: 123 entries, 0 to 122\n",
      "Data columns (total 14 columns):\n",
      "age         123 non-null int64\n",
      "sex         123 non-null int64\n",
      "cp          123 non-null int64\n",
      "trestbps    121 non-null float64\n",
      "chol        123 non-null int64\n",
      "fbs         48 non-null float64\n",
      "restecg     122 non-null float64\n",
      "thalach     122 non-null float64\n",
      "exang       122 non-null float64\n",
      "oldpeak     117 non-null float64\n",
      "slope       106 non-null float64\n",
      "ca          5 non-null float64\n",
      "thal        71 non-null float64\n",
      "num         123 non-null int64\n",
      "dtypes: float64(9), int64(5)\n",
      "memory usage: 14.4 KB\n",
      "None\n",
      "<class 'pandas.core.frame.DataFrame'>\n",
      "Int64Index: 200 entries, 0 to 199\n",
      "Data columns (total 14 columns):\n",
      "age         200 non-null int64\n",
      "sex         200 non-null int64\n",
      "cp          200 non-null int64\n",
      "trestbps    144 non-null float64\n",
      "chol        193 non-null float64\n",
      "fbs         193 non-null float64\n",
      "restecg     200 non-null int64\n",
      "thalach     147 non-null float64\n",
      "exang       147 non-null float64\n",
      "oldpeak     144 non-null float64\n",
      "slope       98 non-null float64\n",
      "ca          2 non-null float64\n",
      "thal        34 non-null float64\n",
      "num         200 non-null int64\n",
      "dtypes: float64(9), int64(5)\n",
      "memory usage: 23.4 KB\n",
      "None\n"
     ]
    }
   ],
   "source": [
    "for df in data:\n",
    "    print(df.info())"
   ]
  },
  {
   "cell_type": "markdown",
   "metadata": {},
   "source": [
    "There seem to be a lot of missing values for certain columns. Calculating the percentage of missing values in each column:"
   ]
  },
  {
   "cell_type": "code",
   "execution_count": 4,
   "metadata": {
    "collapsed": false
   },
   "outputs": [
    {
     "name": "stdout",
     "output_type": "stream",
     "text": [
      "age         0.000000\n",
      "sex         0.000000\n",
      "cp          0.000000\n",
      "trestbps    0.000000\n",
      "chol        0.000000\n",
      "fbs         0.000000\n",
      "restecg     0.000000\n",
      "thalach     0.000000\n",
      "exang       0.000000\n",
      "oldpeak     0.000000\n",
      "slope       0.000000\n",
      "ca          0.013201\n",
      "thal        0.006601\n",
      "num         0.000000\n",
      "dtype: float64\n",
      "age         0.000000\n",
      "sex         0.000000\n",
      "cp          0.000000\n",
      "trestbps    0.003401\n",
      "chol        0.078231\n",
      "fbs         0.027211\n",
      "restecg     0.003401\n",
      "thalach     0.003401\n",
      "exang       0.003401\n",
      "oldpeak     0.000000\n",
      "slope       0.646259\n",
      "ca          0.989796\n",
      "thal        0.904762\n",
      "num         0.000000\n",
      "dtype: float64\n",
      "age         0.000000\n",
      "sex         0.000000\n",
      "cp          0.000000\n",
      "trestbps    0.016260\n",
      "chol        0.000000\n",
      "fbs         0.609756\n",
      "restecg     0.008130\n",
      "thalach     0.008130\n",
      "exang       0.008130\n",
      "oldpeak     0.048780\n",
      "slope       0.138211\n",
      "ca          0.959350\n",
      "thal        0.422764\n",
      "num         0.000000\n",
      "dtype: float64\n",
      "age         0.000\n",
      "sex         0.000\n",
      "cp          0.000\n",
      "trestbps    0.280\n",
      "chol        0.035\n",
      "fbs         0.035\n",
      "restecg     0.000\n",
      "thalach     0.265\n",
      "exang       0.265\n",
      "oldpeak     0.280\n",
      "slope       0.510\n",
      "ca          0.990\n",
      "thal        0.830\n",
      "num         0.000\n",
      "dtype: float64\n"
     ]
    }
   ],
   "source": [
    "for df in data:\n",
    "    pct_na = 1 - df.count() / df.shape[0]\n",
    "    print(pct_na)"
   ]
  },
  {
   "cell_type": "markdown",
   "metadata": {
    "collapsed": false
   },
   "source": [
    "The Cleveland dataset is mostly complete; however other datasets are missing many values in certain columns. The Hungary dataset has few entries for the slope, ca, and thal columns. The Switzerland dataset has few entries for the fbs, ca, and thal columns. The Long Beach dataset has few entries for the slope, ca, and thal columns. For analyses of these datasets by locale, it is probably best to drop these columns from their respective datasets. I have chosen to drop columns with more than 40% missing values."
   ]
  },
  {
   "cell_type": "code",
   "execution_count": 5,
   "metadata": {
    "collapsed": false
   },
   "outputs": [],
   "source": [
    "data[1].drop(['slope', 'ca', 'thal'], axis=1, inplace=True)\n",
    "data[2].drop(['fbs', 'ca', 'thal'], axis=1, inplace=True)\n",
    "data[3].drop(['slope', 'ca', 'thal'], axis=1, inplace=True)"
   ]
  },
  {
   "cell_type": "markdown",
   "metadata": {},
   "source": [
    "For missing values in categorical data, I have chosen to assign them their own category with a value of -1."
   ]
  },
  {
   "cell_type": "code",
   "execution_count": 6,
   "metadata": {
    "collapsed": true
   },
   "outputs": [],
   "source": [
    "categorical = ['sex', 'cp', 'fbs', 'restecg', 'exang', 'slope', 'ca', 'thal']\n",
    "for df in data:\n",
    "    for col in categorical:\n",
    "        if col in df.columns:\n",
    "            df[col].fillna(-1, inplace=True)"
   ]
  },
  {
   "cell_type": "markdown",
   "metadata": {},
   "source": [
    "For the remaining missing values, I have chosen to simply fill them with column means from each locale. Should the data prove skewed upon later analysis, I may choose to use median instead."
   ]
  },
  {
   "cell_type": "code",
   "execution_count": 7,
   "metadata": {
    "collapsed": false
   },
   "outputs": [
    {
     "name": "stdout",
     "output_type": "stream",
     "text": [
      "<class 'pandas.core.frame.DataFrame'>\n",
      "Int64Index: 303 entries, 0 to 302\n",
      "Data columns (total 14 columns):\n",
      "age         303 non-null float64\n",
      "sex         303 non-null float64\n",
      "cp          303 non-null float64\n",
      "trestbps    303 non-null float64\n",
      "chol        303 non-null float64\n",
      "fbs         303 non-null float64\n",
      "restecg     303 non-null float64\n",
      "thalach     303 non-null float64\n",
      "exang       303 non-null float64\n",
      "oldpeak     303 non-null float64\n",
      "slope       303 non-null float64\n",
      "ca          303 non-null float64\n",
      "thal        303 non-null float64\n",
      "num         303 non-null int64\n",
      "dtypes: float64(13), int64(1)\n",
      "memory usage: 35.5 KB\n",
      "None\n",
      "<class 'pandas.core.frame.DataFrame'>\n",
      "Int64Index: 294 entries, 0 to 293\n",
      "Data columns (total 11 columns):\n",
      "age         294 non-null int64\n",
      "sex         294 non-null int64\n",
      "cp          294 non-null int64\n",
      "trestbps    294 non-null float64\n",
      "chol        294 non-null float64\n",
      "fbs         294 non-null float64\n",
      "restecg     294 non-null float64\n",
      "thalach     294 non-null float64\n",
      "exang       294 non-null float64\n",
      "oldpeak     294 non-null float64\n",
      "num         294 non-null int64\n",
      "dtypes: float64(7), int64(4)\n",
      "memory usage: 27.6 KB\n",
      "None\n",
      "<class 'pandas.core.frame.DataFrame'>\n",
      "Int64Index: 123 entries, 0 to 122\n",
      "Data columns (total 11 columns):\n",
      "age         123 non-null int64\n",
      "sex         123 non-null int64\n",
      "cp          123 non-null int64\n",
      "trestbps    123 non-null float64\n",
      "chol        123 non-null int64\n",
      "restecg     123 non-null float64\n",
      "thalach     123 non-null float64\n",
      "exang       123 non-null float64\n",
      "oldpeak     123 non-null float64\n",
      "slope       123 non-null float64\n",
      "num         123 non-null int64\n",
      "dtypes: float64(6), int64(5)\n",
      "memory usage: 11.5 KB\n",
      "None\n",
      "<class 'pandas.core.frame.DataFrame'>\n",
      "Int64Index: 200 entries, 0 to 199\n",
      "Data columns (total 11 columns):\n",
      "age         200 non-null int64\n",
      "sex         200 non-null int64\n",
      "cp          200 non-null int64\n",
      "trestbps    200 non-null float64\n",
      "chol        200 non-null float64\n",
      "fbs         200 non-null float64\n",
      "restecg     200 non-null int64\n",
      "thalach     200 non-null float64\n",
      "exang       200 non-null float64\n",
      "oldpeak     200 non-null float64\n",
      "num         200 non-null int64\n",
      "dtypes: float64(6), int64(5)\n",
      "memory usage: 18.8 KB\n",
      "None\n"
     ]
    }
   ],
   "source": [
    "for df in data:\n",
    "    df.fillna(df.mean(), inplace=True)\n",
    "    print(df.info())"
   ]
  },
  {
   "cell_type": "markdown",
   "metadata": {},
   "source": [
    "Examining the Cleveland data further:"
   ]
  },
  {
   "cell_type": "code",
   "execution_count": 8,
   "metadata": {
    "collapsed": false
   },
   "outputs": [
    {
     "data": {
      "image/png": "[encoded data removed]",
      "text/plain": [
       "<matplotlib.figure.Figure at 0xb6d88d0>"
      ]
     },
     "metadata": {},
     "output_type": "display_data"
    },
    {
     "data": {
      "image/png": "[encoded data removed]",
      "text/plain": [
       "<matplotlib.figure.Figure at 0xb86fd30>"
      ]
     },
     "metadata": {},
     "output_type": "display_data"
    },
    {
     "data": {
      "image/png": "[encoded data removed]",
      "text/plain": [
       "<matplotlib.figure.Figure at 0xb8ce0f0>"
      ]
     },
     "metadata": {},
     "output_type": "display_data"
    },
    {
     "data": {
      "image/png": "[encoded data removed]",
      "text/plain": [
       "<matplotlib.figure.Figure at 0xb8ce588>"
      ]
     },
     "metadata": {},
     "output_type": "display_data"
    },
    {
     "data": {
      "image/png": "[encoded data removed]",
      "text/plain": [
       "<matplotlib.figure.Figure at 0xb7f6128>"
      ]
     },
     "metadata": {},
     "output_type": "display_data"
    }
   ],
   "source": [
    "%matplotlib inline\n",
    "\n",
    "numeric_cols = ['age', 'trestbps', 'chol', 'thalach', 'oldpeak']\n",
    "for col in numeric_cols:\n",
    "    data[0].boxplot(column=col, return_type='axes')\n",
    "    plt.show()"
   ]
  },
  {
   "cell_type": "markdown",
   "metadata": {},
   "source": [
    "There are a few outliers, most notably high blood pressures and cholesterol levels, but for now I don't see a particular reason to throw them out."
   ]
  },
  {
   "cell_type": "code",
   "execution_count": 9,
   "metadata": {
    "collapsed": false
   },
   "outputs": [
    {
     "data": {
      "text/html": [
       "<div>\n",
       "<table border=\"1\" class=\"dataframe\">\n",
       "  <thead>\n",
       "    <tr style=\"text-align: right;\">\n",
       "      <th></th>\n",
       "      <th>age</th>\n",
       "      <th>sex</th>\n",
       "      <th>cp</th>\n",
       "      <th>trestbps</th>\n",
       "      <th>chol</th>\n",
       "      <th>fbs</th>\n",
       "      <th>restecg</th>\n",
       "      <th>thalach</th>\n",
       "      <th>exang</th>\n",
       "      <th>oldpeak</th>\n",
       "      <th>slope</th>\n",
       "      <th>ca</th>\n",
       "      <th>thal</th>\n",
       "      <th>num</th>\n",
       "    </tr>\n",
       "  </thead>\n",
       "  <tbody>\n",
       "    <tr>\n",
       "      <th>count</th>\n",
       "      <td>303.000000</td>\n",
       "      <td>303.000000</td>\n",
       "      <td>303.000000</td>\n",
       "      <td>303.000000</td>\n",
       "      <td>303.000000</td>\n",
       "      <td>303.000000</td>\n",
       "      <td>303.000000</td>\n",
       "      <td>303.000000</td>\n",
       "      <td>303.000000</td>\n",
       "      <td>303.000000</td>\n",
       "      <td>303.000000</td>\n",
       "      <td>303.000000</td>\n",
       "      <td>303.000000</td>\n",
       "      <td>303.000000</td>\n",
       "    </tr>\n",
       "    <tr>\n",
       "      <th>mean</th>\n",
       "      <td>54.438944</td>\n",
       "      <td>0.679868</td>\n",
       "      <td>3.158416</td>\n",
       "      <td>131.689769</td>\n",
       "      <td>246.693069</td>\n",
       "      <td>0.148515</td>\n",
       "      <td>0.990099</td>\n",
       "      <td>149.607261</td>\n",
       "      <td>0.326733</td>\n",
       "      <td>1.039604</td>\n",
       "      <td>1.600660</td>\n",
       "      <td>0.650165</td>\n",
       "      <td>4.696370</td>\n",
       "      <td>0.937294</td>\n",
       "    </tr>\n",
       "    <tr>\n",
       "      <th>std</th>\n",
       "      <td>9.038662</td>\n",
       "      <td>0.467299</td>\n",
       "      <td>0.960126</td>\n",
       "      <td>17.599748</td>\n",
       "      <td>51.776918</td>\n",
       "      <td>0.356198</td>\n",
       "      <td>0.994971</td>\n",
       "      <td>22.875003</td>\n",
       "      <td>0.469794</td>\n",
       "      <td>1.161075</td>\n",
       "      <td>0.616226</td>\n",
       "      <td>0.950632</td>\n",
       "      <td>1.988432</td>\n",
       "      <td>1.228536</td>\n",
       "    </tr>\n",
       "    <tr>\n",
       "      <th>min</th>\n",
       "      <td>29.000000</td>\n",
       "      <td>0.000000</td>\n",
       "      <td>1.000000</td>\n",
       "      <td>94.000000</td>\n",
       "      <td>126.000000</td>\n",
       "      <td>0.000000</td>\n",
       "      <td>0.000000</td>\n",
       "      <td>71.000000</td>\n",
       "      <td>0.000000</td>\n",
       "      <td>0.000000</td>\n",
       "      <td>1.000000</td>\n",
       "      <td>-1.000000</td>\n",
       "      <td>-1.000000</td>\n",
       "      <td>0.000000</td>\n",
       "    </tr>\n",
       "    <tr>\n",
       "      <th>25%</th>\n",
       "      <td>48.000000</td>\n",
       "      <td>0.000000</td>\n",
       "      <td>3.000000</td>\n",
       "      <td>120.000000</td>\n",
       "      <td>211.000000</td>\n",
       "      <td>0.000000</td>\n",
       "      <td>0.000000</td>\n",
       "      <td>133.500000</td>\n",
       "      <td>0.000000</td>\n",
       "      <td>0.000000</td>\n",
       "      <td>1.000000</td>\n",
       "      <td>0.000000</td>\n",
       "      <td>3.000000</td>\n",
       "      <td>0.000000</td>\n",
       "    </tr>\n",
       "    <tr>\n",
       "      <th>50%</th>\n",
       "      <td>56.000000</td>\n",
       "      <td>1.000000</td>\n",
       "      <td>3.000000</td>\n",
       "      <td>130.000000</td>\n",
       "      <td>241.000000</td>\n",
       "      <td>0.000000</td>\n",
       "      <td>1.000000</td>\n",
       "      <td>153.000000</td>\n",
       "      <td>0.000000</td>\n",
       "      <td>0.800000</td>\n",
       "      <td>2.000000</td>\n",
       "      <td>0.000000</td>\n",
       "      <td>3.000000</td>\n",
       "      <td>0.000000</td>\n",
       "    </tr>\n",
       "    <tr>\n",
       "      <th>75%</th>\n",
       "      <td>61.000000</td>\n",
       "      <td>1.000000</td>\n",
       "      <td>4.000000</td>\n",
       "      <td>140.000000</td>\n",
       "      <td>275.000000</td>\n",
       "      <td>0.000000</td>\n",
       "      <td>2.000000</td>\n",
       "      <td>166.000000</td>\n",
       "      <td>1.000000</td>\n",
       "      <td>1.600000</td>\n",
       "      <td>2.000000</td>\n",
       "      <td>1.000000</td>\n",
       "      <td>7.000000</td>\n",
       "      <td>2.000000</td>\n",
       "    </tr>\n",
       "    <tr>\n",
       "      <th>max</th>\n",
       "      <td>77.000000</td>\n",
       "      <td>1.000000</td>\n",
       "      <td>4.000000</td>\n",
       "      <td>200.000000</td>\n",
       "      <td>564.000000</td>\n",
       "      <td>1.000000</td>\n",
       "      <td>2.000000</td>\n",
       "      <td>202.000000</td>\n",
       "      <td>1.000000</td>\n",
       "      <td>6.200000</td>\n",
       "      <td>3.000000</td>\n",
       "      <td>3.000000</td>\n",
       "      <td>7.000000</td>\n",
       "      <td>4.000000</td>\n",
       "    </tr>\n",
       "  </tbody>\n",
       "</table>\n",
       "</div>"
      ],
      "text/plain": [
       "              age         sex          cp    trestbps        chol         fbs  \\\n",
       "count  303.000000  303.000000  303.000000  303.000000  303.000000  303.000000   \n",
       "mean    54.438944    0.679868    3.158416  131.689769  246.693069    0.148515   \n",
       "std      9.038662    0.467299    0.960126   17.599748   51.776918    0.356198   \n",
       "min     29.000000    0.000000    1.000000   94.000000  126.000000    0.000000   \n",
       "25%     48.000000    0.000000    3.000000  120.000000  211.000000    0.000000   \n",
       "50%     56.000000    1.000000    3.000000  130.000000  241.000000    0.000000   \n",
       "75%     61.000000    1.000000    4.000000  140.000000  275.000000    0.000000   \n",
       "max     77.000000    1.000000    4.000000  200.000000  564.000000    1.000000   \n",
       "\n",
       "          restecg     thalach       exang     oldpeak       slope          ca  \\\n",
       "count  303.000000  303.000000  303.000000  303.000000  303.000000  303.000000   \n",
       "mean     0.990099  149.607261    0.326733    1.039604    1.600660    0.650165   \n",
       "std      0.994971   22.875003    0.469794    1.161075    0.616226    0.950632   \n",
       "min      0.000000   71.000000    0.000000    0.000000    1.000000   -1.000000   \n",
       "25%      0.000000  133.500000    0.000000    0.000000    1.000000    0.000000   \n",
       "50%      1.000000  153.000000    0.000000    0.800000    2.000000    0.000000   \n",
       "75%      2.000000  166.000000    1.000000    1.600000    2.000000    1.000000   \n",
       "max      2.000000  202.000000    1.000000    6.200000    3.000000    3.000000   \n",
       "\n",
       "             thal         num  \n",
       "count  303.000000  303.000000  \n",
       "mean     4.696370    0.937294  \n",
       "std      1.988432    1.228536  \n",
       "min     -1.000000    0.000000  \n",
       "25%      3.000000    0.000000  \n",
       "50%      3.000000    0.000000  \n",
       "75%      7.000000    2.000000  \n",
       "max      7.000000    4.000000  "
      ]
     },
     "execution_count": 9,
     "metadata": {},
     "output_type": "execute_result"
    }
   ],
   "source": [
    "data[0].describe()"
   ]
  },
  {
   "cell_type": "markdown",
   "metadata": {},
   "source": [
    "Nothing seems off about the summary statistics for the Cleveland data. I will convert the num category to simply be either 0 (no heart disease) or 1 (heart disease), since I am not interested in the degree."
   ]
  },
  {
   "cell_type": "code",
   "execution_count": 10,
   "metadata": {
    "collapsed": false
   },
   "outputs": [
    {
     "name": "stdout",
     "output_type": "stream",
     "text": [
      "count    303.000000\n",
      "mean       0.458746\n",
      "std        0.499120\n",
      "min        0.000000\n",
      "25%        0.000000\n",
      "50%        0.000000\n",
      "75%        1.000000\n",
      "max        1.000000\n",
      "Name: num, dtype: float64\n",
      "count    294.000000\n",
      "mean       0.360544\n",
      "std        0.480977\n",
      "min        0.000000\n",
      "25%        0.000000\n",
      "50%        0.000000\n",
      "75%        1.000000\n",
      "max        1.000000\n",
      "Name: num, dtype: float64\n",
      "count    123.000000\n",
      "mean       0.934959\n",
      "std        0.247606\n",
      "min        0.000000\n",
      "25%        1.000000\n",
      "50%        1.000000\n",
      "75%        1.000000\n",
      "max        1.000000\n",
      "Name: num, dtype: float64\n",
      "count    200.000000\n",
      "mean       0.745000\n",
      "std        0.436955\n",
      "min        0.000000\n",
      "25%        0.000000\n",
      "50%        1.000000\n",
      "75%        1.000000\n",
      "max        1.000000\n",
      "Name: num, dtype: float64\n"
     ]
    }
   ],
   "source": [
    "for df in data:\n",
    "    df['num'] = df['num'].apply(lambda x: 1 if x > 0 else 0)\n",
    "    print(df['num'].describe())"
   ]
  },
  {
   "cell_type": "markdown",
   "metadata": {},
   "source": [
    "The Switzerland dataset is very skewed, with more than 93% of patients having heart disease. Building a model only for Switzerland probably would not work well, but the data may still be valuable for a combined analysis of all locales. For a combined analysis, I keep only the columns present in all the datasets:"
   ]
  },
  {
   "cell_type": "code",
   "execution_count": 11,
   "metadata": {
    "collapsed": false
   },
   "outputs": [
    {
     "name": "stdout",
     "output_type": "stream",
     "text": [
      "<class 'pandas.core.frame.DataFrame'>\n",
      "Int64Index: 920 entries, 0 to 199\n",
      "Data columns (total 10 columns):\n",
      "age         920 non-null float64\n",
      "sex         920 non-null float64\n",
      "cp          920 non-null float64\n",
      "trestbps    920 non-null float64\n",
      "chol        920 non-null float64\n",
      "restecg     920 non-null float64\n",
      "thalach     920 non-null float64\n",
      "exang       920 non-null float64\n",
      "oldpeak     920 non-null float64\n",
      "num         920 non-null int64\n",
      "dtypes: float64(9), int64(1)\n",
      "memory usage: 79.1 KB\n"
     ]
    }
   ],
   "source": [
    "heart_df = pd.concat(data, join='inner')\n",
    "heart_df.info()"
   ]
  },
  {
   "cell_type": "code",
   "execution_count": 12,
   "metadata": {
    "collapsed": false
   },
   "outputs": [
    {
     "data": {
      "text/html": [
       "<div>\n",
       "<table border=\"1\" class=\"dataframe\">\n",
       "  <thead>\n",
       "    <tr style=\"text-align: right;\">\n",
       "      <th></th>\n",
       "      <th>age</th>\n",
       "      <th>sex</th>\n",
       "      <th>cp</th>\n",
       "      <th>trestbps</th>\n",
       "      <th>chol</th>\n",
       "      <th>restecg</th>\n",
       "      <th>thalach</th>\n",
       "      <th>exang</th>\n",
       "      <th>oldpeak</th>\n",
       "      <th>num</th>\n",
       "    </tr>\n",
       "  </thead>\n",
       "  <tbody>\n",
       "    <tr>\n",
       "      <th>count</th>\n",
       "      <td>920.000000</td>\n",
       "      <td>920.000000</td>\n",
       "      <td>920.000000</td>\n",
       "      <td>920.000000</td>\n",
       "      <td>920.000000</td>\n",
       "      <td>920.000000</td>\n",
       "      <td>920.000000</td>\n",
       "      <td>920.000000</td>\n",
       "      <td>920.000000</td>\n",
       "      <td>920.000000</td>\n",
       "    </tr>\n",
       "    <tr>\n",
       "      <th>mean</th>\n",
       "      <td>53.510870</td>\n",
       "      <td>0.789130</td>\n",
       "      <td>3.250000</td>\n",
       "      <td>132.228016</td>\n",
       "      <td>200.268199</td>\n",
       "      <td>0.601087</td>\n",
       "      <td>136.680294</td>\n",
       "      <td>0.306522</td>\n",
       "      <td>0.904228</td>\n",
       "      <td>0.553261</td>\n",
       "    </tr>\n",
       "    <tr>\n",
       "      <th>std</th>\n",
       "      <td>9.424685</td>\n",
       "      <td>0.408148</td>\n",
       "      <td>0.930969</td>\n",
       "      <td>18.448268</td>\n",
       "      <td>109.272948</td>\n",
       "      <td>0.808415</td>\n",
       "      <td>25.377585</td>\n",
       "      <td>0.576622</td>\n",
       "      <td>1.059259</td>\n",
       "      <td>0.497426</td>\n",
       "    </tr>\n",
       "    <tr>\n",
       "      <th>min</th>\n",
       "      <td>28.000000</td>\n",
       "      <td>0.000000</td>\n",
       "      <td>1.000000</td>\n",
       "      <td>0.000000</td>\n",
       "      <td>0.000000</td>\n",
       "      <td>-1.000000</td>\n",
       "      <td>60.000000</td>\n",
       "      <td>-1.000000</td>\n",
       "      <td>-2.600000</td>\n",
       "      <td>0.000000</td>\n",
       "    </tr>\n",
       "    <tr>\n",
       "      <th>25%</th>\n",
       "      <td>47.000000</td>\n",
       "      <td>1.000000</td>\n",
       "      <td>3.000000</td>\n",
       "      <td>120.000000</td>\n",
       "      <td>177.750000</td>\n",
       "      <td>0.000000</td>\n",
       "      <td>120.000000</td>\n",
       "      <td>0.000000</td>\n",
       "      <td>0.000000</td>\n",
       "      <td>0.000000</td>\n",
       "    </tr>\n",
       "    <tr>\n",
       "      <th>50%</th>\n",
       "      <td>54.000000</td>\n",
       "      <td>1.000000</td>\n",
       "      <td>4.000000</td>\n",
       "      <td>130.000000</td>\n",
       "      <td>224.500000</td>\n",
       "      <td>0.000000</td>\n",
       "      <td>138.000000</td>\n",
       "      <td>0.000000</td>\n",
       "      <td>0.700000</td>\n",
       "      <td>1.000000</td>\n",
       "    </tr>\n",
       "    <tr>\n",
       "      <th>75%</th>\n",
       "      <td>60.000000</td>\n",
       "      <td>1.000000</td>\n",
       "      <td>4.000000</td>\n",
       "      <td>140.000000</td>\n",
       "      <td>267.000000</td>\n",
       "      <td>1.000000</td>\n",
       "      <td>156.000000</td>\n",
       "      <td>1.000000</td>\n",
       "      <td>1.500000</td>\n",
       "      <td>1.000000</td>\n",
       "    </tr>\n",
       "    <tr>\n",
       "      <th>max</th>\n",
       "      <td>77.000000</td>\n",
       "      <td>1.000000</td>\n",
       "      <td>4.000000</td>\n",
       "      <td>200.000000</td>\n",
       "      <td>603.000000</td>\n",
       "      <td>2.000000</td>\n",
       "      <td>202.000000</td>\n",
       "      <td>1.000000</td>\n",
       "      <td>6.200000</td>\n",
       "      <td>1.000000</td>\n",
       "    </tr>\n",
       "  </tbody>\n",
       "</table>\n",
       "</div>"
      ],
      "text/plain": [
       "              age         sex          cp    trestbps        chol     restecg  \\\n",
       "count  920.000000  920.000000  920.000000  920.000000  920.000000  920.000000   \n",
       "mean    53.510870    0.789130    3.250000  132.228016  200.268199    0.601087   \n",
       "std      9.424685    0.408148    0.930969   18.448268  109.272948    0.808415   \n",
       "min     28.000000    0.000000    1.000000    0.000000    0.000000   -1.000000   \n",
       "25%     47.000000    1.000000    3.000000  120.000000  177.750000    0.000000   \n",
       "50%     54.000000    1.000000    4.000000  130.000000  224.500000    0.000000   \n",
       "75%     60.000000    1.000000    4.000000  140.000000  267.000000    1.000000   \n",
       "max     77.000000    1.000000    4.000000  200.000000  603.000000    2.000000   \n",
       "\n",
       "          thalach       exang     oldpeak         num  \n",
       "count  920.000000  920.000000  920.000000  920.000000  \n",
       "mean   136.680294    0.306522    0.904228    0.553261  \n",
       "std     25.377585    0.576622    1.059259    0.497426  \n",
       "min     60.000000   -1.000000   -2.600000    0.000000  \n",
       "25%    120.000000    0.000000    0.000000    0.000000  \n",
       "50%    138.000000    0.000000    0.700000    1.000000  \n",
       "75%    156.000000    1.000000    1.500000    1.000000  \n",
       "max    202.000000    1.000000    6.200000    1.000000  "
      ]
     },
     "execution_count": 12,
     "metadata": {},
     "output_type": "execute_result"
    }
   ],
   "source": [
    "heart_df.describe()"
   ]
  },
  {
   "cell_type": "markdown",
   "metadata": {},
   "source": [
    "There is something strange here: there seem to be values of 0 for trestbps and chol, which make no sense. Most likely these are missing values that were filled in as 0 in the files. I will replace these 0 values with the mean of the column without taking the 0 values into account."
   ]
  },
  {
   "cell_type": "code",
   "execution_count": 13,
   "metadata": {
    "collapsed": false
   },
   "outputs": [
    {
     "data": {
      "text/html": [
       "<div>\n",
       "<table border=\"1\" class=\"dataframe\">\n",
       "  <thead>\n",
       "    <tr style=\"text-align: right;\">\n",
       "      <th></th>\n",
       "      <th>age</th>\n",
       "      <th>sex</th>\n",
       "      <th>cp</th>\n",
       "      <th>trestbps</th>\n",
       "      <th>chol</th>\n",
       "      <th>restecg</th>\n",
       "      <th>thalach</th>\n",
       "      <th>exang</th>\n",
       "      <th>oldpeak</th>\n",
       "      <th>num</th>\n",
       "    </tr>\n",
       "  </thead>\n",
       "  <tbody>\n",
       "    <tr>\n",
       "      <th>count</th>\n",
       "      <td>920.000000</td>\n",
       "      <td>920.000000</td>\n",
       "      <td>920.000000</td>\n",
       "      <td>920.000000</td>\n",
       "      <td>920.000000</td>\n",
       "      <td>920.000000</td>\n",
       "      <td>920.000000</td>\n",
       "      <td>920.000000</td>\n",
       "      <td>920.000000</td>\n",
       "      <td>920.000000</td>\n",
       "    </tr>\n",
       "    <tr>\n",
       "      <th>mean</th>\n",
       "      <td>53.510870</td>\n",
       "      <td>0.789130</td>\n",
       "      <td>3.250000</td>\n",
       "      <td>132.371898</td>\n",
       "      <td>246.319175</td>\n",
       "      <td>0.601087</td>\n",
       "      <td>136.680294</td>\n",
       "      <td>0.306522</td>\n",
       "      <td>0.904228</td>\n",
       "      <td>0.553261</td>\n",
       "    </tr>\n",
       "    <tr>\n",
       "      <th>std</th>\n",
       "      <td>9.424685</td>\n",
       "      <td>0.408148</td>\n",
       "      <td>0.930969</td>\n",
       "      <td>17.924637</td>\n",
       "      <td>52.038407</td>\n",
       "      <td>0.808415</td>\n",
       "      <td>25.377585</td>\n",
       "      <td>0.576622</td>\n",
       "      <td>1.059259</td>\n",
       "      <td>0.497426</td>\n",
       "    </tr>\n",
       "    <tr>\n",
       "      <th>min</th>\n",
       "      <td>28.000000</td>\n",
       "      <td>0.000000</td>\n",
       "      <td>1.000000</td>\n",
       "      <td>80.000000</td>\n",
       "      <td>85.000000</td>\n",
       "      <td>-1.000000</td>\n",
       "      <td>60.000000</td>\n",
       "      <td>-1.000000</td>\n",
       "      <td>-2.600000</td>\n",
       "      <td>0.000000</td>\n",
       "    </tr>\n",
       "    <tr>\n",
       "      <th>25%</th>\n",
       "      <td>47.000000</td>\n",
       "      <td>1.000000</td>\n",
       "      <td>3.000000</td>\n",
       "      <td>120.000000</td>\n",
       "      <td>216.000000</td>\n",
       "      <td>0.000000</td>\n",
       "      <td>120.000000</td>\n",
       "      <td>0.000000</td>\n",
       "      <td>0.000000</td>\n",
       "      <td>0.000000</td>\n",
       "    </tr>\n",
       "    <tr>\n",
       "      <th>50%</th>\n",
       "      <td>54.000000</td>\n",
       "      <td>1.000000</td>\n",
       "      <td>4.000000</td>\n",
       "      <td>130.000000</td>\n",
       "      <td>246.319175</td>\n",
       "      <td>0.000000</td>\n",
       "      <td>138.000000</td>\n",
       "      <td>0.000000</td>\n",
       "      <td>0.700000</td>\n",
       "      <td>1.000000</td>\n",
       "    </tr>\n",
       "    <tr>\n",
       "      <th>75%</th>\n",
       "      <td>60.000000</td>\n",
       "      <td>1.000000</td>\n",
       "      <td>4.000000</td>\n",
       "      <td>140.000000</td>\n",
       "      <td>267.000000</td>\n",
       "      <td>1.000000</td>\n",
       "      <td>156.000000</td>\n",
       "      <td>1.000000</td>\n",
       "      <td>1.500000</td>\n",
       "      <td>1.000000</td>\n",
       "    </tr>\n",
       "    <tr>\n",
       "      <th>max</th>\n",
       "      <td>77.000000</td>\n",
       "      <td>1.000000</td>\n",
       "      <td>4.000000</td>\n",
       "      <td>200.000000</td>\n",
       "      <td>603.000000</td>\n",
       "      <td>2.000000</td>\n",
       "      <td>202.000000</td>\n",
       "      <td>1.000000</td>\n",
       "      <td>6.200000</td>\n",
       "      <td>1.000000</td>\n",
       "    </tr>\n",
       "  </tbody>\n",
       "</table>\n",
       "</div>"
      ],
      "text/plain": [
       "              age         sex          cp    trestbps        chol     restecg  \\\n",
       "count  920.000000  920.000000  920.000000  920.000000  920.000000  920.000000   \n",
       "mean    53.510870    0.789130    3.250000  132.371898  246.319175    0.601087   \n",
       "std      9.424685    0.408148    0.930969   17.924637   52.038407    0.808415   \n",
       "min     28.000000    0.000000    1.000000   80.000000   85.000000   -1.000000   \n",
       "25%     47.000000    1.000000    3.000000  120.000000  216.000000    0.000000   \n",
       "50%     54.000000    1.000000    4.000000  130.000000  246.319175    0.000000   \n",
       "75%     60.000000    1.000000    4.000000  140.000000  267.000000    1.000000   \n",
       "max     77.000000    1.000000    4.000000  200.000000  603.000000    2.000000   \n",
       "\n",
       "          thalach       exang     oldpeak         num  \n",
       "count  920.000000  920.000000  920.000000  920.000000  \n",
       "mean   136.680294    0.306522    0.904228    0.553261  \n",
       "std     25.377585    0.576622    1.059259    0.497426  \n",
       "min     60.000000   -1.000000   -2.600000    0.000000  \n",
       "25%    120.000000    0.000000    0.000000    0.000000  \n",
       "50%    138.000000    0.000000    0.700000    1.000000  \n",
       "75%    156.000000    1.000000    1.500000    1.000000  \n",
       "max    202.000000    1.000000    6.200000    1.000000  "
      ]
     },
     "execution_count": 13,
     "metadata": {},
     "output_type": "execute_result"
    }
   ],
   "source": [
    "for col in ['trestbps', 'chol']:\n",
    "    col_mean = heart_df[heart_df[col] != 0][col].mean()\n",
    "    heart_df[col].replace(0, col_mean, inplace=True)\n",
    "    \n",
    "heart_df.describe()"
   ]
  },
  {
   "cell_type": "markdown",
   "metadata": {},
   "source": [
    "This looks much better. Visualizing the data a bit:"
   ]
  },
  {
   "cell_type": "code",
   "execution_count": 14,
   "metadata": {
    "collapsed": false
   },
   "outputs": [
    {
     "data": {
      "image/png": "[encoded data removed]",
      "text/plain": [
       "<matplotlib.figure.Figure at 0xbabb438>"
      ]
     },
     "metadata": {},
     "output_type": "display_data"
    }
   ],
   "source": [
    "plt.figure(figsize=(20,10))\n",
    "for i, col in enumerate(numeric_cols):\n",
    "    plt.subplot(1, 5, i+1)\n",
    "    heart_df.boxplot(column=col, return_type='axes')\n",
    "plt.show()"
   ]
  },
  {
   "cell_type": "markdown",
   "metadata": {},
   "source": [
    "There are some outliers, but upon inspection none of them seem to be incorrect information, as I have found reports of higher values online. For now, I will keep the data as is, but I may choose to perform a log transformation on the data later if the outliers seem to be a problem."
   ]
  },
  {
   "cell_type": "code",
   "execution_count": 15,
   "metadata": {
    "collapsed": false
   },
   "outputs": [
    {
     "data": {
      "image/png": "[encoded data removed]",
      "text/plain": [
       "<matplotlib.figure.Figure at 0xc93e6a0>"
      ]
     },
     "metadata": {},
     "output_type": "display_data"
    }
   ],
   "source": [
    "categorical_cols = ['sex', 'cp', 'restecg', 'exang', 'num']\n",
    "heart_df.hist(column=categorical_cols, figsize=(10, 15))\n",
    "plt.show()"
   ]
  },
  {
   "cell_type": "markdown",
   "metadata": {},
   "source": [
    "The combined dataset has a pretty balanced split between patients with and without heart disease (55/45).\n",
    "\n",
    "Saving the data:"
   ]
  },
  {
   "cell_type": "code",
   "execution_count": 16,
   "metadata": {
    "collapsed": true
   },
   "outputs": [],
   "source": [
    "for locale, df in zip(locales, data):\n",
    "    df.to_csv('{}.csv'.format(locale))\n",
    "    \n",
    "heart_df.to_csv('combined_data.csv')"
   ]
  }
 ],
 "metadata": {
  "kernelspec": {
   "display_name": "Python 2",
   "language": "python",
   "name": "python2"
  },
  "language_info": {
   "codemirror_mode": {
    "name": "ipython",
    "version": 2
   },
   "file_extension": ".py",
   "mimetype": "text/x-python",
   "name": "python",
   "nbconvert_exporter": "python",
   "pygments_lexer": "ipython2",
   "version": "2.7.11"
  }
 },
 "nbformat": 4,
 "nbformat_minor": 0
}
