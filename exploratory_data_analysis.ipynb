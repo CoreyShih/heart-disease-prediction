{
 "cells": [
  {
   "cell_type": "markdown",
   "metadata": {},
   "source": [
    "Having cleaned and visualized the data, it is now time to analyze the data with inferential statistics. Primarily, I will be looking into the statistical significance of trends visualized in the data_story notebook. These trends indicate correlations between pairs of variables and between variables and the value of the heart disease prediction. From the plots made previously, the important questions to investigate the statistical significance of are:\n",
    "\n",
    "+ Are men at higher risk of heart disease than women?\n",
    "+ Are older patients at higher risk of heart disease than younger ones?\n",
    "+ Are patients with asymptomatic chest pain at higher risk of heart disease than patients with other types of chest pain?\n",
    "+ Are patients with exercise-induced angina at higher risk of heart disease?\n",
    "+ Are patients with higher maximum heart rates at lower risk of heart disease?\n",
    "+ Is there a negative correlation between age and maximum heart rate?\n",
    "+ Are the distributions of age, heart rate, blood pressure, and cholesterol normal?"
   ]
  },
  {
   "cell_type": "code",
   "execution_count": 1,
   "metadata": {
    "collapsed": true
   },
   "outputs": [],
   "source": [
    "import numpy as np\n",
    "import pandas as pd\n",
    "from scipy import stats"
   ]
  },
  {
   "cell_type": "code",
   "execution_count": 2,
   "metadata": {},
   "outputs": [
    {
     "data": {
      "text/html": [
       "<div>\n",
       "<table border=\"1\" class=\"dataframe\">\n",
       "  <thead>\n",
       "    <tr style=\"text-align: right;\">\n",
       "      <th></th>\n",
       "      <th>age</th>\n",
       "      <th>sex</th>\n",
       "      <th>cp</th>\n",
       "      <th>trestbps</th>\n",
       "      <th>chol</th>\n",
       "      <th>restecg</th>\n",
       "      <th>thalach</th>\n",
       "      <th>exang</th>\n",
       "      <th>oldpeak</th>\n",
       "      <th>num</th>\n",
       "    </tr>\n",
       "  </thead>\n",
       "  <tbody>\n",
       "    <tr>\n",
       "      <th>0</th>\n",
       "      <td>63</td>\n",
       "      <td>1</td>\n",
       "      <td>1</td>\n",
       "      <td>145</td>\n",
       "      <td>233</td>\n",
       "      <td>2</td>\n",
       "      <td>150</td>\n",
       "      <td>0</td>\n",
       "      <td>2.3</td>\n",
       "      <td>0</td>\n",
       "    </tr>\n",
       "    <tr>\n",
       "      <th>1</th>\n",
       "      <td>67</td>\n",
       "      <td>1</td>\n",
       "      <td>4</td>\n",
       "      <td>160</td>\n",
       "      <td>286</td>\n",
       "      <td>2</td>\n",
       "      <td>108</td>\n",
       "      <td>1</td>\n",
       "      <td>1.5</td>\n",
       "      <td>1</td>\n",
       "    </tr>\n",
       "    <tr>\n",
       "      <th>2</th>\n",
       "      <td>67</td>\n",
       "      <td>1</td>\n",
       "      <td>4</td>\n",
       "      <td>120</td>\n",
       "      <td>229</td>\n",
       "      <td>2</td>\n",
       "      <td>129</td>\n",
       "      <td>1</td>\n",
       "      <td>2.6</td>\n",
       "      <td>1</td>\n",
       "    </tr>\n",
       "    <tr>\n",
       "      <th>3</th>\n",
       "      <td>37</td>\n",
       "      <td>1</td>\n",
       "      <td>3</td>\n",
       "      <td>130</td>\n",
       "      <td>250</td>\n",
       "      <td>0</td>\n",
       "      <td>187</td>\n",
       "      <td>0</td>\n",
       "      <td>3.5</td>\n",
       "      <td>0</td>\n",
       "    </tr>\n",
       "    <tr>\n",
       "      <th>4</th>\n",
       "      <td>41</td>\n",
       "      <td>0</td>\n",
       "      <td>2</td>\n",
       "      <td>130</td>\n",
       "      <td>204</td>\n",
       "      <td>2</td>\n",
       "      <td>172</td>\n",
       "      <td>0</td>\n",
       "      <td>1.4</td>\n",
       "      <td>0</td>\n",
       "    </tr>\n",
       "  </tbody>\n",
       "</table>\n",
       "</div>"
      ],
      "text/plain": [
       "   age  sex  cp  trestbps  chol  restecg  thalach  exang  oldpeak  num\n",
       "0   63    1   1       145   233        2      150      0      2.3    0\n",
       "1   67    1   4       160   286        2      108      1      1.5    1\n",
       "2   67    1   4       120   229        2      129      1      2.6    1\n",
       "3   37    1   3       130   250        0      187      0      3.5    0\n",
       "4   41    0   2       130   204        2      172      0      1.4    0"
      ]
     },
     "execution_count": 2,
     "metadata": {},
     "output_type": "execute_result"
    }
   ],
   "source": [
    "df = pd.read_csv('combined_data.csv', index_col=0)\n",
    "df.head()"
   ]
  },
  {
   "cell_type": "markdown",
   "metadata": {},
   "source": [
    "### Are men at higher risk of heart disease than women?\n",
    "\n",
    "I will use a 2 sample t test to compare the proportions of men and women with heart disease to determine if there is a significant difference or not. The null hypothesis is that there is no difference in the proportion of men and women with heart disease, and the alternative hypothesis is that the proportion of men with heart disease is higher than that of women. I will use $\\alpha$ = 0.05."
   ]
  },
  {
   "cell_type": "code",
   "execution_count": 3,
   "metadata": {
    "collapsed": true
   },
   "outputs": [],
   "source": [
    "f = df[df.sex == 0]\n",
    "m = df[df.sex == 1]\n",
    "\n",
    "prop_f = np.mean(f.num)\n",
    "prop_m = np.mean(m.num)\n",
    "\n",
    "s = np.std(df.num)"
   ]
  },
  {
   "cell_type": "code",
   "execution_count": 4,
   "metadata": {},
   "outputs": [
    {
     "name": "stdout",
     "output_type": "stream",
     "text": [
      "p-value: 4.19303473997e-20\n"
     ]
    }
   ],
   "source": [
    "t = (prop_m - prop_f) / (s * np.sqrt(1./len(f.num) + 1./len(m.num)))\n",
    "p = stats.t.sf(np.abs(t), len(f.num) + len(m.num) - 2)\n",
    "print('p-value: {}'.format(p))"
   ]
  },
  {
   "cell_type": "markdown",
   "metadata": {},
   "source": [
    "The p-value is extremely small and much less than $\\alpha$ = 0.05, so we reject the null hypothesis and conclude that the proportion of men with heart disease is indeed higher than the proportion of women with heart disease. This suggests that men are at higher risk of heart disease than women, and that sex is an important variable in the prediction of heart disease."
   ]
  },
  {
   "cell_type": "markdown",
   "metadata": {},
   "source": [
    "### Are older patients at higher risk of heart disease than younger ones?\n",
    "\n",
    "To determine the answer to this question, I will use a 2 sample t test to compare the mean age of patients with and without heart disease. The null hypothesis is that there is no difference in the mean age, and the alternative hypothesis is that patients with heart disease are have a higher mean age. I will use $\\alpha$ = 0.05."
   ]
  },
  {
   "cell_type": "code",
   "execution_count": 5,
   "metadata": {
    "collapsed": true
   },
   "outputs": [],
   "source": [
    "cvd = df[df.num == 1]\n",
    "no_cvd = df[df.num == 0]\n",
    "\n",
    "mean_age_cvd = np.mean(cvd.age)\n",
    "mean_age_no_cvd = np.mean(no_cvd.age)\n",
    "\n",
    "s = np.std(df.age)"
   ]
  },
  {
   "cell_type": "code",
   "execution_count": 6,
   "metadata": {},
   "outputs": [
    {
     "name": "stdout",
     "output_type": "stream",
     "text": [
      "p-value: 2.08880157308e-17\n"
     ]
    }
   ],
   "source": [
    "t = (mean_age_cvd - mean_age_no_cvd) / (s * np.sqrt(1./len(cvd.age) + 1./len(no_cvd.age)))\n",
    "p = stats.t.sf(np.abs(t), len(cvd.age) + len(no_cvd.age) - 2)\n",
    "print('p-value: {}'.format(p))"
   ]
  },
  {
   "cell_type": "markdown",
   "metadata": {},
   "source": [
    "The p-value is extremely small and much less than $\\alpha$ = 0.05, so we reject the null hypothesis and conclude that the mean age of patients with heart disease is higher than the mean age of patients without heart disease. This suggests that older patients are at higher risk of heart disease than younger ones, and that age is and important factor in the prediction of heart disease."
   ]
  },
  {
   "cell_type": "markdown",
   "metadata": {
    "collapsed": true
   },
   "source": [
    "### Are patients with asymptomatic chest pain at higher risk of heart disease than patients with other types of chest pain?\n",
    "\n",
    "I will use a 2 sample t test to compare the proportion of patients with asymptomatic chest pain that have heart disease to the proportion of patients with other types of pain that have heart disease. The null hypothesis is that there is no difference in the proportions, and the alternative hypothesis is that the proportion of patients with asympotomatic chest pain that have heart disease is higher than that of patients with other types of pain. I will use $\\alpha$ = 0.05."
   ]
  },
  {
   "cell_type": "code",
   "execution_count": 7,
   "metadata": {
    "collapsed": true
   },
   "outputs": [],
   "source": [
    "asymptomatic = df[df.cp == 4]\n",
    "not_asymptomatic = df[df.cp != 4]\n",
    "\n",
    "prop_asymptomatic = np.mean(asymptomatic.num)\n",
    "prop_not_asymptomatic = np.mean(not_asymptomatic.num)\n",
    "\n",
    "s = np.std(df.num)"
   ]
  },
  {
   "cell_type": "code",
   "execution_count": 8,
   "metadata": {},
   "outputs": [
    {
     "name": "stdout",
     "output_type": "stream",
     "text": [
      "p-value: 2.24043825592e-49\n"
     ]
    }
   ],
   "source": [
    "t = (prop_asymptomatic - prop_not_asymptomatic) / (s * np.sqrt(1./len(asymptomatic.num) + 1./len(not_asymptomatic.num)))\n",
    "p = stats.t.sf(np.abs(t), len(asymptomatic.num) + len(not_asymptomatic.num) - 2)\n",
    "print('p-value: {}'.format(p))"
   ]
  },
  {
   "cell_type": "markdown",
   "metadata": {},
   "source": [
    "The p-value is extremely small and much less than $\\alpha$ = 0.05, so we reject the null hypothesis and conclude that the proportion of patients with asymptomatic chest pain that have heart disease is higher than that of patients with other types of pain. This result seems strange since chest pain is typically a symptom of heart disease. One possible explanation is that some patients with heart disease were in critical condition, and medical professionals simply had to list their chest pain as asymptomatic since they were unable to respond."
   ]
  },
  {
   "cell_type": "markdown",
   "metadata": {},
   "source": [
    "### Are patients with exercise-induced angina at higher risk of heart disease?\n",
    "\n",
    "Once again, I will use a 2 sample t test to compare the proportion of patients with exercise-induced angina that have heart disease and the proportion of patients without exercise-induced angina that have heart disease. The null hypothesis is that the two proportions are the same, and the alternative hypothesis is that the proportion of patients with exercise-induced angina that have heart disease is higher than that of patients without exercise-induced angina. I will use $\\alpha$ = 0.05."
   ]
  },
  {
   "cell_type": "code",
   "execution_count": 9,
   "metadata": {
    "collapsed": true
   },
   "outputs": [],
   "source": [
    "exang = df[df.exang == 1]\n",
    "no_exang = df[df.exang == 0]\n",
    "\n",
    "prop_exang = np.mean(exang.num)\n",
    "prop_no_exang = np.mean(no_exang.num)\n",
    "\n",
    "s = np.std(df.num)"
   ]
  },
  {
   "cell_type": "code",
   "execution_count": 10,
   "metadata": {},
   "outputs": [
    {
     "name": "stdout",
     "output_type": "stream",
     "text": [
      "p-value: 7.43491803722e-39\n"
     ]
    }
   ],
   "source": [
    "t = (prop_exang - prop_no_exang) / (s * np.sqrt(1./len(exang.num) + 1./len(no_exang.num)))\n",
    "p = stats.t.sf(np.abs(t), len(exang.num) + len(no_exang.num) - 2)\n",
    "print('p-value: {}'.format(p))"
   ]
  },
  {
   "cell_type": "markdown",
   "metadata": {},
   "source": [
    "The p-value is extremely small and much less than $\\alpha$ = 0.05, so we reject the null hypothesis and conclude that the proportion of patients with exercise-induced angina that have heart disease is higher than that of patients without exercise-induced angina. This suggests that patients with exercise-indcued angina are at higher risk of heart disease, and that exercise-induced angina could be an important predictor of heart disease."
   ]
  },
  {
   "cell_type": "markdown",
   "metadata": {},
   "source": [
    "### Are patients with higher maximum heart rates at lower risk of heart disease?\n",
    "\n",
    "To determine the answer to this question, I will use a 2 sample t test to compare the mean maximum heart rate of patients with and without heart disease. The null hypothesis is that there is no difference in the mean maximum heart rate, and the alternative hypothesis is that patients without heart disease are have a higher mean maximum heart rate. I will use $\\alpha$ = 0.05."
   ]
  },
  {
   "cell_type": "code",
   "execution_count": 11,
   "metadata": {
    "collapsed": true
   },
   "outputs": [],
   "source": [
    "thalach_cvd = np.mean(cvd.thalach)\n",
    "thalach_no_cvd = np.mean(no_cvd.thalach)\n",
    "\n",
    "s = np.std(df.thalach)"
   ]
  },
  {
   "cell_type": "code",
   "execution_count": 12,
   "metadata": {},
   "outputs": [
    {
     "name": "stdout",
     "output_type": "stream",
     "text": [
      "p-value: 6.61664124305e-30\n"
     ]
    }
   ],
   "source": [
    "t = (thalach_cvd - thalach_no_cvd) / (s * np.sqrt(1./len(cvd.thalach) + 1./len(no_cvd.thalach)))\n",
    "p = stats.t.sf(np.abs(t), len(cvd.thalach) + len(no_cvd.thalach) - 2)\n",
    "print('p-value: {}'.format(p))"
   ]
  },
  {
   "cell_type": "markdown",
   "metadata": {},
   "source": [
    "The p-value is extremely small and much less than $\\alpha$ = 0.05, so we reject the null hypothesis and conclude that the mean maximum heart rate of patients without heart disease is higher than that of patients with heart disease. This result is unusual since abnormally high heart rates have traditionally been an indicator of heart disease, but can be explained if older patients tend to have lower heart rates. We have already concluded that age and heart disease are correlated, with older patients being more at risk. If older patients also tend to have lower heart rates, then it would make sense for patients with higher heart rate (i.e. younger patients) to be at lower risk of heart disease. In the next section I will examine the statistical significance of the correlation between age and maximum heart rate."
   ]
  },
  {
   "cell_type": "markdown",
   "metadata": {},
   "source": [
    "### Is there a negative correlation between age and maximum heart rate?\n",
    "\n",
    "To answer this, I will compute the Pearson correlation coefficient of age and maximum heart rate and calculate the probability of getting a Pearson correlation coefficient at least as extreme as observed if age and heart rate were really uncorrelated. SciPy has a built-in function that calculate the p-value automatically. The null hypothesis is that the is no correlation between age and maximum heart rate, and the alternative hypothesis is that the two variables are negatively correlated. I will use $\\alpha$ = 0.05."
   ]
  },
  {
   "cell_type": "code",
   "execution_count": 13,
   "metadata": {},
   "outputs": [
    {
     "name": "stdout",
     "output_type": "stream",
     "text": [
      "Pearson correlation coefficient: -0.372440078055\n",
      "p-value: 1.20133603101e-31\n"
     ]
    }
   ],
   "source": [
    "r, p = stats.pearsonr(df.age, df.thalach)\n",
    "print('Pearson correlation coefficient: {}'.format(r))\n",
    "print('p-value: {}'.format(p))"
   ]
  },
  {
   "cell_type": "markdown",
   "metadata": {},
   "source": [
    "The p-value is extremely small and much less than $\\alpha$ = 0.05, so we reject the null hypothesis and conclude that there is a negative correlation between age and maximum heart rate. This makes sense, as older people are known to have lower heart rates than younger people. This also helps explain why patients with higher heart rates are seemingly at lower risk of heart disease; it is at least partially due to the fact that they are likely younger."
   ]
  },
  {
   "cell_type": "markdown",
   "metadata": {},
   "source": [
    "### Are the distributions of age, heart rate, blood pressure, and cholesterol normal?\n",
    "\n",
    "While normality is not a strict condition for the central limit theorem to apply, making sure distributions are normal can allow for one to leverage the powerful statistics associated with normal distributions. Here, I will use the D'Agostino-Pearson omnibus test for normality to test the distributions of age, heart rate, blood pressure, and cholesterol. The null hypothesis in the test is that the data is drawn from a normal distribution, and the alternative hypothesis is that the data was drawn from a distribution that is not normal. I will use $\\alpha$ = 0.05."
   ]
  },
  {
   "cell_type": "code",
   "execution_count": 22,
   "metadata": {},
   "outputs": [
    {
     "name": "stdout",
     "output_type": "stream",
     "text": [
      "p-value for age distribution: 0.000808310768165\n",
      "p-value for heart rate distribution: 0.000913273727309\n",
      "p-value for blood pressure distribution: 9.67321156907e-16\n",
      "p-value for cholesterol distribution: 1.92184553797e-71\n"
     ]
    }
   ],
   "source": [
    "_, p = stats.normaltest(df.age)\n",
    "print('p-value for age distribution: {}'.format(p))\n",
    "_, p = stats.normaltest(df.thalach)\n",
    "print('p-value for heart rate distribution: {}'.format(p))\n",
    "_, p = stats.normaltest(df.trestbps)\n",
    "print('p-value for blood pressure distribution: {}'.format(p))\n",
    "_, p = stats.normaltest(df.chol)\n",
    "print('p-value for cholesterol distribution: {}'.format(p))"
   ]
  },
  {
   "cell_type": "markdown",
   "metadata": {},
   "source": [
    "As all of the calculated p-values are less than 0.05, we reject the null hypothesis and conclude that none of the distributions are normal. This does not mean that hypothesis tests involving these distributions are not valid, as we have a large enough sample size, but I will not be able to use normal statistics on these distributions directly."
   ]
  }
 ],
 "metadata": {
  "kernelspec": {
   "display_name": "Python 3",
   "language": "python",
   "name": "python3"
  },
  "language_info": {
   "codemirror_mode": {
    "name": "ipython",
    "version": 3
   },
   "file_extension": ".py",
   "mimetype": "text/x-python",
   "name": "python",
   "nbconvert_exporter": "python",
   "pygments_lexer": "ipython3",
   "version": "3.7.3"
  }
 },
 "nbformat": 4,
 "nbformat_minor": 1
}
